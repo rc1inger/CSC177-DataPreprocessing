{
 "cells": [
  {
   "attachments": {},
   "cell_type": "markdown",
   "metadata": {},
   "source": [
    "## **Project 1**: *Data PreProcessing*\n"
   ]
  },
  {
   "cell_type": "markdown",
   "metadata": {},
   "source": [
    "**imports**"
   ]
  },
  {
   "cell_type": "code",
   "execution_count": 6,
   "metadata": {},
   "outputs": [],
   "source": [
    "import pandas as pd\n",
    "import numpy as np\n"
   ]
  },
  {
   "cell_type": "markdown",
   "metadata": {},
   "source": [
    "**Import the CSV file, Clean and Process it**"
   ]
  },
  {
   "cell_type": "code",
   "execution_count": 7,
   "metadata": {},
   "outputs": [],
   "source": [
    "data = pd.read_csv('steam_app_data.csv')"
   ]
  },
  {
   "cell_type": "code",
   "execution_count": 8,
   "metadata": {},
   "outputs": [],
   "source": [
    "# Data Quality Issues\n",
    "data.columns = ['type', 'name', 'steam_appid', 'required_age',\n",
    "                'is_free', 'controller_support', 'dlc',\n",
    "                'detailed_description', 'about_the_game',\n",
    "                'short_description', 'fullgame',\n",
    "                'supported_languages', 'header_image', 'website',\n",
    "                'pc_requirements', 'mac_requirements',\n",
    "                'linux_requirements', 'legal_notice', 'drm_notice',\n",
    "                'ext_user_account_notice', 'developers',\n",
    "                'publishers', 'demos', 'price_overview',\n",
    "                'packages', 'package_groups', 'platforms',\n",
    "                'metacritic', 'reviews', 'categories', 'genres',\n",
    "                'screenshots', 'movies', 'recommendations',\n",
    "                'achievements', 'release_date', 'support_info',\n",
    "                'background', 'content_descriptors'\n",
    "]"
   ]
  },
  {
   "cell_type": "code",
   "execution_count": 9,
   "metadata": {},
   "outputs": [
    {
     "data": {
      "text/plain": [
       "' remove attributes\\ntype - because the attribute should always be \"games\" and this column has dirty info that was scraped.\\ncontroller_support - incomplete data. It only shows full, but doesn\\'t say anything like joystick or anything useful\\ndlc - unsure what this info is because it shows a string of numbers. Maybe a steam_appid?\\ndetailed_description - not needed for analytics\\nabout_the_game - not needed for analytics\\nshort_description - not needed for analytics\\nfullgame - attribute added by mistake\\nheader_image - not needed for analytics\\nwebsite - not needed for analytics\\npc_requirements - ### CAN THIS BE CLEANED UP? ###\\nmac_requirements - ^^^\\nlinux_requirements - ^^^\\nlegal_notice - not needed for analytics\\ndrm_notice - not needed for analytics\\next_user_account_notice - not needed for analytics\\ndemos - not needed for analytics\\npackages - not needed for analytics\\npackage_groups - not needed for analytics\\nmetacritic - not needed for analytics\\nreviews - not needed for analytics\\nscreenshots - not needed for analytics\\nmovies - not needed for analytics\\nrecommendations - not needed for analytics\\nachievements - not needed for analytics\\nsupport_info - not needed for analytics\\nbackground - not needed for analytics\\ncontent_descriptors - not needed for analytics\\n'"
      ]
     },
     "execution_count": 9,
     "metadata": {},
     "output_type": "execute_result"
    }
   ],
   "source": [
    "''' remove attributes\n",
    "type - because the attribute should always be \"games\" and this column has dirty info that was scraped.\n",
    "controller_support - incomplete data. It only shows full, but doesn't say anything like joystick or anything useful\n",
    "dlc - unsure what this info is because it shows a string of numbers. Maybe a steam_appid?\n",
    "detailed_description - not needed for analytics\n",
    "about_the_game - not needed for analytics\n",
    "short_description - not needed for analytics\n",
    "fullgame - attribute added by mistake\n",
    "header_image - not needed for analytics\n",
    "website - not needed for analytics\n",
    "pc_requirements - ### CAN THIS BE CLEANED UP? ###\n",
    "mac_requirements - ^^^\n",
    "linux_requirements - ^^^\n",
    "legal_notice - not needed for analytics\n",
    "drm_notice - not needed for analytics\n",
    "ext_user_account_notice - not needed for analytics\n",
    "demos - not needed for analytics\n",
    "packages - not needed for analytics\n",
    "package_groups - not needed for analytics\n",
    "metacritic - not needed for analytics\n",
    "reviews - not needed for analytics\n",
    "screenshots - not needed for analytics\n",
    "movies - not needed for analytics\n",
    "recommendations - not needed for analytics\n",
    "achievements - not needed for analytics\n",
    "support_info - not needed for analytics\n",
    "background - not needed for analytics\n",
    "content_descriptors - not needed for analytics\n",
    "'''"
   ]
  },
  {
   "cell_type": "code",
   "execution_count": 10,
   "metadata": {},
   "outputs": [],
   "source": [
    "#drop unecessary columns \n",
    "\n",
    "ata = data.drop(['type', 'controller_support', 'dlc',\n",
    "             'detailed_description', 'about_the_game',\n",
    "             'short_description', 'fullgame',\n",
    "             'header_image', 'website', 'pc_requirements',\n",
    "             'mac_requirements', 'linux_requirements',\n",
    "             'legal_notice', 'drm_notice',\n",
    "             'ext_user_account_notice', 'demos', 'packages',\n",
    "             'package_groups', 'metacritic', 'reviews',\n",
    "             'screenshots', 'movies', 'recommendations',\n",
    "             'achievements', 'support_info', 'background',\n",
    "             'content_descriptors'\n",
    "],axis=1)"
   ]
  },
  {
   "cell_type": "markdown",
   "metadata": {},
   "source": [
    "**display the data**"
   ]
  },
  {
   "cell_type": "code",
   "execution_count": 11,
   "metadata": {},
   "outputs": [
    {
     "name": "stdout",
     "output_type": "stream",
     "text": [
      "Number of instances = 29235\n",
      "Number of attributes = 39\n"
     ]
    }
   ],
   "source": [
    "# using f string to format since Python 3.6\n",
    "print(f'Number of instances = {data.shape[0]}')\n",
    "print(f'Number of attributes = {data.shape[1]}')"
   ]
  },
  {
   "cell_type": "markdown",
   "metadata": {},
   "source": [
    "**attributes to keep**"
   ]
  },
  {
   "cell_type": "code",
   "execution_count": 12,
   "metadata": {},
   "outputs": [
    {
     "data": {
      "text/plain": [
       "' We are keeping these attributes\\nname\\nsteam_appid\\nrequired_age\\nis_free\\nsupported_laguages - make it a 1 if is in English\\ndeveloper\\npublisher\\nprice_overview - too hard to clean?\\nplatforms\\ncategories\\ngenres\\nrelease_date\\n'"
      ]
     },
     "execution_count": 12,
     "metadata": {},
     "output_type": "execute_result"
    }
   ],
   "source": [
    "''' We are keeping these attributes\n",
    "name\n",
    "steam_appid\n",
    "required_age\n",
    "is_free\n",
    "supported_laguages - make it a 1 if is in English\n",
    "developer\n",
    "publisher\n",
    "price_overview - too hard to clean?\n",
    "platforms\n",
    "categories\n",
    "genres\n",
    "release_date\n",
    "'''"
   ]
  },
  {
   "cell_type": "markdown",
   "metadata": {},
   "source": [
    "**Fill out blank cells with Nan values**"
   ]
  },
  {
   "cell_type": "code",
   "execution_count": 13,
   "metadata": {},
   "outputs": [
    {
     "name": "stdout",
     "output_type": "stream",
     "text": [
      "Number of missing values:\n",
      "\ttype: 149\n",
      "\tname: 1\n",
      "\tsteam_appid: 0\n",
      "\trequired_age: 149\n",
      "\tis_free: 149\n",
      "\tcontroller_support: 23237\n",
      "\tdlc: 24260\n",
      "\tdetailed_description: 175\n",
      "\tabout_the_game: 175\n",
      "\tshort_description: 175\n",
      "\tfullgame: 29235\n",
      "\tsupported_languages: 163\n",
      "\theader_image: 149\n",
      "\twebsite: 9983\n",
      "\tpc_requirements: 149\n",
      "\tmac_requirements: 149\n",
      "\tlinux_requirements: 149\n",
      "\tlegal_notice: 19169\n",
      "\tdrm_notice: 29077\n",
      "\text_user_account_notice: 28723\n",
      "\tdevelopers: 264\n",
      "\tpublishers: 149\n",
      "\tdemos: 27096\n",
      "\tprice_overview: 3712\n",
      "\tpackages: 3370\n",
      "\tpackage_groups: 149\n",
      "\tplatforms: 149\n",
      "\tmetacritic: 26254\n",
      "\treviews: 23330\n",
      "\tcategories: 714\n",
      "\tgenres: 196\n",
      "\tscreenshots: 177\n",
      "\tmovies: 2078\n",
      "\trecommendations: 22507\n",
      "\tachievements: 2381\n",
      "\trelease_date: 149\n",
      "\tsupport_info: 149\n",
      "\tbackground: 177\n",
      "\tcontent_descriptors: 149\n"
     ]
    }
   ],
   "source": [
    "# Missing Values\n",
    "# Replace blank cells with NaN\n",
    "data= data.replace(r'^\\s*$', np.nan, regex=True)\n",
    "\n",
    "print('Number of missing values:')\n",
    "for col in data.columns:\n",
    "    print(f'\\t{col}: {data[col].isna().sum()}')\n"
   ]
  }
 ],
 "metadata": {
  "kernelspec": {
   "display_name": "base",
   "language": "python",
   "name": "python3"
  },
  "language_info": {
   "codemirror_mode": {
    "name": "ipython",
    "version": 3
   },
   "file_extension": ".py",
   "mimetype": "text/x-python",
   "name": "python",
   "nbconvert_exporter": "python",
   "pygments_lexer": "ipython3",
   "version": "3.12.4"
  }
 },
 "nbformat": 4,
 "nbformat_minor": 2
}
