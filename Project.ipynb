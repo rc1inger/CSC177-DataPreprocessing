{
  "cells": [
    {
      "cell_type": "markdown",
      "metadata": {
        "id": "KnPsHKbRvlPy"
      },
      "source": [
        "# **Data Preprocessing Project**"
      ]
    },
    {
      "cell_type": "code",
      "execution_count": 9,
      "metadata": {
        "id": "_CJkQ8uHvlP0"
      },
      "outputs": [],
      "source": [
        "# Import necessary libraries\n",
        "import pandas as pd\n",
        "import numpy as np\n",
        "import matplotlib.pyplot as plt\n",
        "from sklearn.model_selection import train_test_split\n",
        "from sklearn.preprocessing import StandardScaler, LabelEncoder\n",
        "from sklearn.feature_selection import RFE\n",
        "from sklearn.linear_model import LogisticRegression"
      ]
    },
    {
      "cell_type": "code",
      "execution_count": 10,
      "metadata": {
        "id": "pNXIDpc2vlP1"
      },
      "outputs": [],
      "source": [
        "# Load the dataset and rename columns for clarity\n",
        "data = pd.read_csv('data/heart_disease.csv')\n",
        "data.columns = ['age', 'sex', 'cp', 'trestbps', 'chol', 'fbs', 'restecg', 'thalach', 'exang', 'oldpeak', 'slope', 'ca', 'thal', 'disease']"
      ]
    },
    {
      "cell_type": "markdown",
      "metadata": {
        "id": "GdVepy58vlP1"
      },
      "source": [
        "**Drop Duplicates, Handle Missing Values, and Remove Outliers**"
      ]
    },
    {
      "cell_type": "code",
      "execution_count": 11,
      "metadata": {
        "id": "JAGGYrz1vlP1",
        "outputId": "4530ad5a-72c4-416d-f50d-c8ee0d00a498",
        "colab": {
          "base_uri": "https://localhost:8080/"
        }
      },
      "outputs": [
        {
          "output_type": "stream",
          "name": "stdout",
          "text": [
            "Number of instances = {data.shape[0]}\n",
            "Number of attributes = {data.shape[1]}\n",
            "    age  sex   cp  trestbps   chol  fbs  restecg  thalach  exang  oldpeak  \\\n",
            "0  67.0  1.0  4.0     160.0  286.0  0.0      2.0    108.0    1.0      1.5   \n",
            "1  67.0  1.0  4.0     120.0  229.0  0.0      2.0    129.0    1.0      2.6   \n",
            "2  37.0  1.0  3.0     130.0  250.0  0.0      0.0    187.0    0.0      3.5   \n",
            "3  41.0  0.0  2.0     130.0  204.0  0.0      2.0    172.0    0.0      1.4   \n",
            "4  56.0  1.0  2.0     120.0  236.0  0.0      0.0    178.0    0.0      0.8   \n",
            "\n",
            "   slope ca thal  \n",
            "0    2.0  3    3  \n",
            "1    2.0  2    7  \n",
            "2    3.0  0    3  \n",
            "3    1.0  0    3  \n",
            "4    1.0  0    3  \n"
          ]
        }
      ],
      "source": [
        "# Drop the 'disease' column as it's the target variable for prediction\n",
        "data = data.drop(['disease'], axis=1)\n",
        "\n",
        "# Print the shape of the dataset to understand its dimensions\n",
        "print(f'Number of instances = {{data.shape[0]}}')  # Number of rows\n",
        "print(f'Number of attributes = {{data.shape[1]}}')  # Number of columns\n",
        "print(data.head())  # Display the first few rows for a quick overview"
      ]
    },
    {
      "cell_type": "code",
      "execution_count": 12,
      "metadata": {
        "id": "6b6drz10vlP2"
      },
      "outputs": [],
      "source": [
        "# **Modularization: Created a function for duplicate removal**\n",
        "def remove_duplicates(df):\n",
        "    dups = df.duplicated()\n",
        "    print(f'Number of duplicate rows = {{dups.sum()}}')  # Count duplicates\n",
        "    df_cleaned = df.drop_duplicates()\n",
        "    print(f'Number of instances after dropping duplicates = {{df_cleaned.shape[0]}}')  # New row count\n",
        "    return df_cleaned"
      ]
    },
    {
      "cell_type": "code",
      "execution_count": 13,
      "metadata": {
        "id": "7t0AIS_NvlP3",
        "outputId": "62340dcd-55f7-4ab1-9b8d-ce7b5f49378a",
        "colab": {
          "base_uri": "https://localhost:8080/"
        }
      },
      "outputs": [
        {
          "output_type": "stream",
          "name": "stdout",
          "text": [
            "Number of duplicate rows = {dups.sum()}\n",
            "Number of instances after dropping duplicates = {df_cleaned.shape[0]}\n"
          ]
        }
      ],
      "source": [
        "# Remove duplicates from the dataset\n",
        "data2 = remove_duplicates(data)\n",
        "\n",
        "# Replace '?' with NaN to handle missing values properly\n",
        "data3 = data2.replace('?', np.nan)"
      ]
    },
    {
      "cell_type": "code",
      "execution_count": 14,
      "metadata": {
        "id": "STQo9anBvlP3",
        "outputId": "73af5a8f-691d-4c1a-c2b6-96fc8157011b",
        "colab": {
          "base_uri": "https://localhost:8080/"
        }
      },
      "outputs": [
        {
          "output_type": "stream",
          "name": "stdout",
          "text": [
            "Replace missing values with median\n"
          ]
        }
      ],
      "source": [
        "# **Handle missing values**\n",
        "def handle_missing_values(df):\n",
        "    for col in df.columns:\n",
        "        df[col] = pd.to_numeric(df[col], errors='coerce')\n",
        "    print('Replace missing values with median')\n",
        "    for col in df.columns:\n",
        "        df[col] = df[col].fillna(df[col].median())  # No inplace, reassign the column directly\n",
        "    return df\n",
        "\n",
        "# Handle missing values in the dataset\n",
        "data3 = handle_missing_values(data3)"
      ]
    },
    {
      "cell_type": "code",
      "execution_count": 15,
      "metadata": {
        "id": "4vp_LUeuvlP3",
        "outputId": "253215ab-f2a3-4d1f-88df-d99fc6cfea03",
        "colab": {
          "base_uri": "https://localhost:8080/"
        }
      },
      "outputs": [
        {
          "output_type": "stream",
          "name": "stdout",
          "text": [
            "No missing values to visualize.\n"
          ]
        }
      ],
      "source": [
        "# **Visualize missing values**\n",
        "def visualize_missing_values(df):\n",
        "    missing_values = df.isna().sum()\n",
        "    missing_values = missing_values[missing_values > 0]\n",
        "    if not missing_values.empty:\n",
        "        missing_values.plot(kind='bar', figsize=(10, 5))  # Plot only columns with missing values\n",
        "        plt.title('Missing Values Count')  # Title for the plot\n",
        "        plt.xlabel('Features')  # X-axis label\n",
        "        plt.ylabel('Count')  # Y-axis label\n",
        "        plt.show()  # Display the plot\n",
        "    else:\n",
        "        print(\"No missing values to visualize.\")\n",
        "\n",
        "# Visualize missing values after handling missing data\n",
        "visualize_missing_values(data3)"
      ]
    },
    {
      "cell_type": "code",
      "execution_count": 16,
      "metadata": {
        "id": "_N8-4qpYvlP3",
        "outputId": "2b33a6a1-4173-43e6-d289-5f400f34a302",
        "colab": {
          "base_uri": "https://localhost:8080/",
          "height": 293
        }
      },
      "outputs": [
        {
          "output_type": "display_data",
          "data": {
            "text/plain": [
              "<Figure size 2000x300 with 1 Axes>"
            ],
            "image/png": "[encoded data removed]"
          },
          "metadata": {}
        }
      ],
      "source": [
        "# **Visualizing potential outliers using boxplots**\n",
        "data3.boxplot(figsize=(20, 3))  # Initial boxplot for visual inspection\n",
        "plt.title('Boxplot of Features Before Outlier Removal')\n",
        "plt.show()  # Display the boxplot"
      ]
    },
    {
      "cell_type": "code",
      "execution_count": 17,
      "metadata": {
        "id": "vxPGzq9_vlP4",
        "outputId": "a470db59-986b-4ff4-9c57-0b69bcb502a9",
        "colab": {
          "base_uri": "https://localhost:8080/"
        }
      },
      "outputs": [
        {
          "output_type": "stream",
          "name": "stdout",
          "text": [
            "Number of rows before removing outliers = {Z.shape[0]}\n",
            "Number of rows after removing outliers = {Z2.shape[0]}\n"
          ]
        }
      ],
      "source": [
        "# **Remove outliers**\n",
        "def remove_outliers(df):\n",
        "    Z = (df - df.mean()) / df.std()  # Z-score normalization\n",
        "    print(f'Number of rows before removing outliers = {{Z.shape[0]}}')  # Initial row count\n",
        "    Z2 = df.loc[((Z > -3).sum(axis=1) == len(df.columns)) & ((Z <= 3).sum(axis=1) == len(df.columns)), :]\n",
        "    print(f'Number of rows after removing outliers = {{Z2.shape[0]}}')  # Count after outlier removal\n",
        "    return Z2\n",
        "\n",
        "# Remove outliers from the dataset\n",
        "data3 = remove_outliers(data3)"
      ]
    },
    {
      "cell_type": "markdown",
      "metadata": {
        "id": "puWUdTGZvlP4"
      },
      "source": [
        "**One hot Encoding and Feature Scaling on the Dataset**"
      ]
    },
    {
      "cell_type": "code",
      "execution_count": 27,
      "metadata": {
        "id": "gs9XINBCvlP4"
      },
      "outputs": [],
      "source": [
        "# Using Label Encoding for binary columns and One-Hot Encoding for multiclass columns\n",
        "X = data.copy()\n",
        "\n",
        "def encode_categorical(df):\n",
        "    from sklearn.preprocessing import LabelEncoder\n",
        "    le = LabelEncoder()\n",
        "    # Label encode binary categorical columns\n",
        "    df['sex'] = le.fit_transform(df['sex'])\n",
        "    df['fbs'] = le.fit_transform(df['fbs'])\n",
        "    df['exang'] = le.fit_transform(df['exang'])\n",
        "\n",
        "    # One-Hot encode multiclass columns\n",
        "    df = pd.get_dummies(df, columns=['cp', 'restecg', 'slope', 'ca', 'thal'])\n",
        "    return df\n",
        "\n",
        "X_encoded = encode_categorical(X)"
      ]
    },
    {
      "cell_type": "code",
      "execution_count": 19,
      "metadata": {
        "id": "pZRqRvb-vlP4"
      },
      "outputs": [],
      "source": [
        "# **Feature scaling**\n",
        "from sklearn.preprocessing import StandardScaler\n",
        "scaler = StandardScaler()\n",
        "data3_scaled = pd.DataFrame(scaler.fit_transform(data3), columns=data3.columns)"
      ]
    },
    {
      "cell_type": "code",
      "execution_count": 20,
      "metadata": {
        "id": "J_MFJeZjvlP5"
      },
      "outputs": [],
      "source": [
        "# **Visualize cleaned data**\n",
        "def visualize_data(df):\n",
        "    df.boxplot(figsize=(20, 3))  # Size of the plot\n",
        "    plt.title('Boxplot of Features After Cleaning and Scaling')\n",
        "    plt.show()"
      ]
    },
    {
      "cell_type": "code",
      "execution_count": 21,
      "metadata": {
        "id": "DrBhJ8ltvlP5",
        "outputId": "25c7e079-f393-48ba-a495-49784d993c2d",
        "colab": {
          "base_uri": "https://localhost:8080/",
          "height": 295
        }
      },
      "outputs": [
        {
          "output_type": "display_data",
          "data": {
            "text/plain": [
              "<Figure size 2000x300 with 1 Axes>"
            ],
            "image/png": "[encoded data removed]"
          },
          "metadata": {}
        }
      ],
      "source": [
        "# Visualize the cleaned dataset\n",
        "visualize_data(data3_scaled)"
      ]
    },
    {
      "cell_type": "markdown",
      "metadata": {
        "id": "esZCJrcqvlP6"
      },
      "source": [
        "**Split the Dataset 80% train, 20% test**"
      ]
    },
    {
      "cell_type": "code",
      "execution_count": 32,
      "metadata": {
        "id": "C5tVduTSvlP6",
        "outputId": "3e5fb71c-67bf-461e-8646-c40c2d3a2041",
        "colab": {
          "base_uri": "https://localhost:8080/"
        }
      },
      "outputs": [
        {
          "output_type": "stream",
          "name": "stdout",
          "text": [
            "Data after Min-Max Scaling:\n",
            "         age  sex        cp  trestbps      chol  fbs  restecg   thalach  exang  \\\n",
            "0  0.791667  1.0  1.000000  0.622642  0.549828  0.0      1.0  0.282443    1.0   \n",
            "1  0.791667  1.0  1.000000  0.245283  0.353952  0.0      1.0  0.442748    1.0   \n",
            "2  0.166667  1.0  0.666667  0.339623  0.426117  0.0      0.0  0.885496    0.0   \n",
            "3  0.250000  0.0  0.333333  0.339623  0.268041  0.0      1.0  0.770992    0.0   \n",
            "4  0.562500  1.0  0.333333  0.245283  0.378007  0.0      0.0  0.816794    0.0   \n",
            "\n",
            "    oldpeak  slope        ca  thal  \n",
            "0  0.241935    0.5  1.000000   0.0  \n",
            "1  0.419355    0.5  0.666667   1.0  \n",
            "2  0.564516    1.0  0.000000   0.0  \n",
            "3  0.225806    0.0  0.000000   0.0  \n",
            "4  0.129032    0.0  0.000000   0.0  \n"
          ]
        }
      ],
      "source": [
        "from sklearn.preprocessing import MinMaxScaler\n",
        "\n",
        "# Apply Min-Max Scaling\n",
        "min_max_scaler = MinMaxScaler()\n",
        "data3_minmax = pd.DataFrame(min_max_scaler.fit_transform(data3), columns=data3.columns)\n",
        "\n",
        "# Display the scaled data\n",
        "print(\"Data after Min-Max Scaling:\\n\", data3_minmax.head())\n"
      ]
    },
    {
      "cell_type": "code",
      "execution_count": 33,
      "metadata": {
        "id": "DA5n9uTEvlP6"
      },
      "outputs": [],
      "source": [
        "# **Split dataset**\n",
        "from sklearn.model_selection import train_test_split\n",
        "\n",
        "# Split the dataset into training and testing sets (80-20 split)\n",
        "train_data, test_data = train_test_split(data3_scaled, test_size=0.2, random_state=42)\n",
        "\n",
        "# **Calculate mean and standard deviation for both sets**\n",
        "train_mean = train_data.mean()\n",
        "train_std = train_data.std()\n",
        "\n",
        "test_mean = test_data.mean()\n",
        "test_std = test_data.std()"
      ]
    },
    {
      "cell_type": "code",
      "execution_count": 23,
      "metadata": {
        "id": "ZbnS6KCrvlP6",
        "outputId": "02e5c382-97f3-4d26-cbd5-2669a329599e",
        "colab": {
          "base_uri": "https://localhost:8080/"
        }
      },
      "outputs": [
        {
          "output_type": "stream",
          "name": "stdout",
          "text": [
            "Train Mean:\n",
            "age         0.016277\n",
            "sex        -0.004375\n",
            "cp         -0.008290\n",
            "trestbps   -0.002095\n",
            "chol       -0.005001\n",
            "fbs         0.067379\n",
            "restecg    -0.072675\n",
            "thalach     0.012813\n",
            "exang      -0.016388\n",
            "oldpeak    -0.011330\n",
            "slope       0.019730\n",
            "ca          0.007312\n",
            "thal        0.029583\n",
            "dtype: float64\n",
            "Train Std:\n",
            "age         0.995279\n",
            "sex         1.003849\n",
            "cp          0.990482\n",
            "trestbps    0.985334\n",
            "chol        1.003642\n",
            "fbs         1.064952\n",
            "restecg     0.996397\n",
            "thalach     0.970114\n",
            "exang       0.995734\n",
            "oldpeak     0.986962\n",
            "slope       1.018232\n",
            "ca          1.010547\n",
            "thal        1.006806\n",
            "dtype: float64\n",
            "Test Mean:\n",
            "age        -0.064822\n",
            "sex         0.017424\n",
            "cp          0.033016\n",
            "trestbps    0.008343\n",
            "chol        0.019916\n",
            "fbs        -0.268335\n",
            "restecg     0.289427\n",
            "thalach    -0.051028\n",
            "exang       0.065264\n",
            "oldpeak     0.045122\n",
            "slope      -0.078574\n",
            "ca         -0.029118\n",
            "thal       -0.117814\n",
            "dtype: float64\n",
            "Test Std:\n",
            "age         1.033625\n",
            "sex         1.002100\n",
            "cp          1.053937\n",
            "trestbps    1.073842\n",
            "chol        1.002874\n",
            "fbs         0.634618\n",
            "restecg     0.978811\n",
            "thalach     1.126950\n",
            "exang       1.031819\n",
            "oldpeak     1.066618\n",
            "slope       0.937737\n",
            "ca          0.974197\n",
            "thal        0.981285\n",
            "dtype: float64\n"
          ]
        }
      ],
      "source": [
        "# Display the mean and standard deviation for training and test sets\n",
        "print(f'Train Mean:\\n{train_mean}')\n",
        "print(f'Train Std:\\n{train_std}')\n",
        "print(f'Test Mean:\\n{test_mean}')\n",
        "print(f'Test Std:\\n{test_std}')"
      ]
    },
    {
      "cell_type": "markdown",
      "metadata": {
        "id": "TaqnyVPCvlP6"
      },
      "source": [
        "**Comparing the training and test values**"
      ]
    },
    {
      "cell_type": "code",
      "execution_count": 34,
      "metadata": {
        "id": "m6CtsRJGvlP6"
      },
      "outputs": [],
      "source": [
        "# Compare the difference between train and test means\n",
        "mean_diff = abs(train_mean - test_mean)\n",
        "std_diff = abs(train_std - test_std)"
      ]
    },
    {
      "cell_type": "code",
      "execution_count": 25,
      "metadata": {
        "id": "hSjpKJ5YvlP6",
        "outputId": "8a8483f6-42b1-471f-a6fa-35be65b743b2",
        "colab": {
          "base_uri": "https://localhost:8080/"
        }
      },
      "outputs": [
        {
          "output_type": "stream",
          "name": "stdout",
          "text": [
            "Mean Differences Between Train and Test:\n",
            "age         0.081099\n",
            "sex         0.021800\n",
            "cp          0.041306\n",
            "trestbps    0.010438\n",
            "chol        0.024916\n",
            "fbs         0.335714\n",
            "restecg     0.362102\n",
            "thalach     0.063841\n",
            "exang       0.081652\n",
            "oldpeak     0.056452\n",
            "slope       0.098304\n",
            "ca          0.036430\n",
            "thal        0.147398\n",
            "dtype: float64\n",
            "\n",
            "Standard Deviation Differences Between Train and Test:\n",
            "age         0.038347\n",
            "sex         0.001749\n",
            "cp          0.063454\n",
            "trestbps    0.088508\n",
            "chol        0.000768\n",
            "fbs         0.430335\n",
            "restecg     0.017586\n",
            "thalach     0.156836\n",
            "exang       0.036085\n",
            "oldpeak     0.079656\n",
            "slope       0.080495\n",
            "ca          0.036349\n",
            "thal        0.025520\n",
            "dtype: float64\n",
            "\n"
          ]
        }
      ],
      "source": [
        "print(f'Mean Differences Between Train and Test:\\n{mean_diff}\\n')\n",
        "print(f'Standard Deviation Differences Between Train and Test:\\n{std_diff}\\n')"
      ]
    },
    {
      "cell_type": "code",
      "execution_count": 26,
      "metadata": {
        "id": "G2RWXjPdvlP6",
        "outputId": "6439699f-3294-4426-aa78-0c23f27c0827",
        "colab": {
          "base_uri": "https://localhost:8080/"
        }
      },
      "outputs": [
        {
          "output_type": "stream",
          "name": "stdout",
          "text": [
            "There are some differences between the training and test sets. Further analysis might be required.\n"
          ]
        }
      ],
      "source": [
        "# Summarize the differences\n",
        "if mean_diff.mean() < 0.1 and std_diff.mean() < 0.1:\n",
        "    print(\"The training and test sets are well-balanced and represent similar distributions.\")\n",
        "else:\n",
        "    print(\"There are some differences between the training and test sets. Further analysis might be required.\")"
      ]
    }
  ],
  "metadata": {
    "kernelspec": {
      "display_name": "Python 3",
      "language": "python",
      "name": "python3"
    },
    "language_info": {
      "codemirror_mode": {
        "name": "ipython",
        "version": 3
      },
      "file_extension": ".py",
      "mimetype": "text/x-python",
      "name": "python",
      "nbconvert_exporter": "python",
      "pygments_lexer": "ipython3",
      "version": "3.12.4"
    },
    "colab": {
      "provenance": []
    }
  },
  "nbformat": 4,
  "nbformat_minor": 0
}